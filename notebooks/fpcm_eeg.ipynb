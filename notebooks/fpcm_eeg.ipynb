{
 "cells": [
  {
   "cell_type": "code",
   "execution_count": null,
   "id": "9f666ab6",
   "metadata": {},
   "outputs": [],
   "source": [
    "from pathlib import Path\n",
    "import mne\n",
    "from fpcm_detector import detect_spikes_fpcm\n",
    "\n",
    "edf_path = Path(\"/Users/vzuev/Documents/git/git_other/ArtifactRemovalTransformer/data/test.edf\")\n",
    "edf_path.exists()"
   ]
  },
  {
   "cell_type": "code",
   "execution_count": null,
   "id": "40e31876",
   "metadata": {},
   "outputs": [],
   "source": [
    "raw = mne.io.read_raw_edf(edf_path, preload=True)\n",
    "results = detect_spikes_fpcm(\n",
    "    raw,\n",
    "    peak_hw_ms=30,\n",
    "    wave_hw_ms=90,\n",
    "    bkg_coeff=3,\n",
    "    err_peak_th=0.3,\n",
    "    err_wave_th=0.9,\n",
    "    hit_threshold=3,\n",
    ")"
   ]
  },
  {
   "cell_type": "code",
   "execution_count": null,
   "id": "902688d1",
   "metadata": {},
   "outputs": [],
   "source": [
    "sum([sum(row) > 3 for row in results[\"hits\"]]) # 0 (as should be)"
   ]
  },
  {
   "cell_type": "markdown",
   "id": "d08de4b7",
   "metadata": {},
   "source": [
    "Вопросы:\n",
    "1. В алгоритме много параметров. Пробовали ли подбирать параметры с помощью какой-то метрики на обучающей выборке? Используются ли одни и те же параметры на каждом пациенте или разные на разных?\n",
    "1. Алгоритм используется на данных в реальном времени без препроцессирования? Используется он на данных ЭЭГ или МЭГ? Или эког?\n"
   ]
  }
 ],
 "metadata": {
  "kernelspec": {
   "display_name": "Python 3",
   "language": "python",
   "name": "python3"
  },
  "language_info": {
   "codemirror_mode": {
    "name": "ipython",
    "version": 3
   },
   "file_extension": ".py",
   "mimetype": "text/x-python",
   "name": "python",
   "nbconvert_exporter": "python",
   "pygments_lexer": "ipython3",
   "version": "3.11.13"
  }
 },
 "nbformat": 4,
 "nbformat_minor": 5
}
